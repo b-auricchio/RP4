{
 "cells": [
  {
   "cell_type": "code",
   "execution_count": 693,
   "metadata": {},
   "outputs": [],
   "source": [
    "# Cost functions\n",
    "def evalue_trace(P):\n",
    "    \"\"\"Calculate the trace of eigenvalues of the covariance matrix P - used as cost function\"\"\"\n",
    "    evals, _ = np.linalg.eig(P)\n",
    "    return np.sum(evals[:2])\n",
    "\n",
    "class Node:\n",
    "    \"\"\"Node class for RRT-like path planning\"\"\"\n",
    "    def __init__(self, u, value, x, P, parent, position):\n",
    "        self.u = u\n",
    "        self.value = value\n",
    "        self.x = x\n",
    "        self.P = P\n",
    "        self.position = position\n",
    "        self.parent = parent\n",
    "\n",
    "    def get_path(self):\n",
    "        \"\"\"Get the path from the root to this node\"\"\"\n",
    "        path = [self.u]\n",
    "        node = self\n",
    "        while node.parent is not None:\n",
    "            node = node.parent\n",
    "            path.append(node.u)\n",
    "        return path\n",
    "\n",
    "    def __repr__(self):\n",
    "        return f\"u:{str(self.u)}, value: {self.value}, rank:{len(self.get_path())-1}, pos: {self.position}\\n\"\n",
    "\n",
    "class DiscreteInputPathPlanner:\n",
    "    \"\"\"Path planner with discrete set of control inputs\"\"\"\n",
    "    def __init__(self, min_range=None, altitude_bounds= None):\n",
    "        self.min_range = min_range\n",
    "        self.altitude_bounds = altitude_bounds\n",
    "\n",
    "            # u array\n",
    "        self.uarray = np.array([[0, 0, 0], \n",
    "                    [0, 0, 1], [0, 0, -1], [0, 1, 0], \n",
    "                    [0, -1, 0], [1, 0, 0], [-1, 0, 0],\n",
    "                    [0, 1, 1], [0, 1, -1], [1, 1, 0], \n",
    "                    [1, -1, 0], [1, 0, 1], [-1, 0, 1],\n",
    "                    [0, -1, 1], [0, -1, -1], [-1, 1, 0], \n",
    "                    [-1, -1, 0], [1, 0, -1], [-1, 0, -1]]) # possible control inputs\n",
    "        \n",
    "    def estimate_step_forward(self, x, P, drone_pos, u, kf, dt):\n",
    "        \"\"\"Estimate the state and covariance of the drone after dt seconds\n",
    "        given the current state x, covariance P and control input u\"\"\"\n",
    "\n",
    "        drone_pos = drone_pos + u\n",
    "\n",
    "        jFfun = kf.jFx\n",
    "        jHfun = kf.jHx\n",
    "        Q = kf.Q\n",
    "        R = kf.R\n",
    "        \n",
    "        jF = jFfun(x, dt)\n",
    "        jH = jHfun(x, drone_pos)\n",
    "\n",
    "        # step state forward\n",
    "        x = jF@x\n",
    "\n",
    "        # step covariance forward\n",
    "        P_prior = jF@P@jF.T + Q\n",
    "        S = jH@P_prior@jH.T + R\n",
    "        K = P_prior@jH.T@np.linalg.inv(S)\n",
    "        P = (np.eye(4) - K@jH)@P_prior\n",
    "\n",
    "        return x, P, u\n",
    "    \n",
    "    def get_best_nodes(self, num, kf, dt, parent_nodes=[None]):\n",
    "        \"\"\"Generate a tree of possible states and covariances given a discrete set of control inputs\"\"\"\n",
    "\n",
    "        nodes = []\n",
    "        for parent in parent_nodes:\n",
    "            \n",
    "            # generate tree of possible states, sort by cost function and return the num best nodes\n",
    "            tree = [(self.estimate_step_forward(parent.x, parent.P, parent.position, u, kf, dt)) for u in self.uarray]\n",
    "\n",
    "            for leaf in (tree):\n",
    "                nodes.append(Node(leaf[2], evalue_trace(leaf[1]), leaf[0], leaf[1], parent, position=parent.position+leaf[2]))\n",
    "\n",
    "        # sort nodes by cost function and take the num best nodes\n",
    "        nodes = sorted(nodes, key=lambda x: x.value)\n",
    "        nodes = nodes[:num]\n",
    "\n",
    "        return nodes\n",
    "    \n",
    "    def generate_nodes(self, num, timesteps, drone_pos, kf, dt):\n",
    "        \"\"\"Generate a list of nodes given a discrete set of control inputs\"\"\"\n",
    "        nodes = np.empty((timesteps, num), dtype=Node)\n",
    "        parents = [Node([0, 0, 0], 0, kf.get_state(), kf.get_covariance(), None, drone_pos)]\n",
    "        \n",
    "        for t in range(timesteps):\n",
    "            nodes[t] = self.get_best_nodes(num, kf, dt, parents)\n",
    "            parents = nodes[t]\n",
    "\n",
    "        return nodes\n",
    "    \n",
    "    def get_best_input(self, nodes):\n",
    "        \"\"\"Get the best input from the list of nodes\"\"\"\n",
    "        umin = nodes[-1, 0].get_path()[-2]\n",
    "        return "
   ]
  },
  {
   "cell_type": "code",
   "execution_count": 696,
   "metadata": {},
   "outputs": [
    {
     "data": {
      "text/plain": [
       "array([1, 0, 1])"
      ]
     },
     "execution_count": 696,
     "metadata": {},
     "output_type": "execute_result"
    }
   ],
   "source": [
    "from filters.kalman import ExtendedKalmanFilter\n",
    "from models.drone import pos2z, get_jacobian_H\n",
    "from models.target import get_jacobian_F\n",
    "from models.target import Target\n",
    "\n",
    "dt = 1\n",
    "\n",
    "x0 = np.array([100, 10, 1, 2]) # initial state [x, y, alpha, velocity]'\n",
    "drone_pos = np.array([-100,-100, 20])\n",
    "\n",
    "# get track\n",
    "Q_model = np.diag([0, 0, 0.2, 0.2])**2 # process noise [x, y, alpha, velocity]'\n",
    "\n",
    "# generate kalman filter object\n",
    "R = np.diag([0.1, 0.1])**2 # measurement noise\n",
    "P0 = np.eye(4)*100 # initial covariance\n",
    "Q = Q_model*3 # kalman filter process noise 3x larger than actual process noise\n",
    "kf = ExtendedKalmanFilter(x0, P0, Q, R, pos2z, get_jacobian_H, Target.transition, get_jacobian_F)\n",
    "\n",
    "pp = DiscreteInputPathPlanner()\n",
    "nodes = pp.generate_nodes(15, 10, drone_pos, kf, dt)\n",
    "\n",
    "pp.get_best_input(nodes)\n"
   ]
  },
  {
   "cell_type": "code",
   "execution_count": 695,
   "metadata": {},
   "outputs": [
    {
     "data": {
      "text/plain": [
       "array([1, 0, 1])"
      ]
     },
     "execution_count": 695,
     "metadata": {},
     "output_type": "execute_result"
    }
   ],
   "source": []
  }
 ],
 "metadata": {
  "kernelspec": {
   "display_name": ".venv",
   "language": "python",
   "name": "python3"
  },
  "language_info": {
   "codemirror_mode": {
    "name": "ipython",
    "version": 3
   },
   "file_extension": ".py",
   "mimetype": "text/x-python",
   "name": "python",
   "nbconvert_exporter": "python",
   "pygments_lexer": "ipython3",
   "version": "3.11.7"
  }
 },
 "nbformat": 4,
 "nbformat_minor": 2
}
